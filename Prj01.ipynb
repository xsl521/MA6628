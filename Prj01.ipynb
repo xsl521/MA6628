{
 "cells": [
  {
   "cell_type": "code",
   "execution_count": 0,
   "metadata": {
    "collapsed": false
   },
   "outputs": [
   ],
   "source": [
    "from numpy import arange\n",
    "def is_prime(a):\n",
    "    r=a%arange(2,a)\n",
    "    return all(r!=0)\n",
    "def search(lower,upper):\n",
    "    counter=1;record=(None,None)\n",
    "    for i in range(lower,upper):\n",
    "        i=int(i)\n",
    "        if is_prime(i):\n",
    "            if is_prime(i+2):\n",
    "                record=(i,i+2)\n",
    "                counter+=1\n",
    "                print('{}:\\t{}'.format(counter,record))\n",
    "    print('-'*20)\n",
    "    print('Total number:\\t{}'.format(counter))\n",
    "    print('Last Pair:\\t{}'.format(record))\n",
    "\n",
    "    return counter, record\n",
    "c,r=search(1000,1000000)"
   ]
  }
 ],
 "metadata": {
  "kernelspec": {
   "display_name": "Python 3 (Anaconda 5)",
   "language": "python",
   "name": "anaconda5"
  }
 },
 "nbformat": 4,
 "nbformat_minor": 0
}