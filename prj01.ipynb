{
 "cells": [
  {
   "cell_type": "code",
   "execution_count": 4,
   "metadata": {
    "collapsed": false,
    "scrolled": true
   },
   "outputs": [
    {
     "name": "stdout",
     "output_type": "stream",
     "text": [
      "2:\t(1019, 1021)\n",
      "3:\t(1031, 1033)\n",
      "4:\t(1049, 1051)\n",
      "5:\t(1061, 1063)\n",
      "6:\t(1091, 1093)\n",
      "7:\t(1151, 1153)\n",
      "8:\t(1229, 1231)\n",
      "9:\t(1277, 1279)\n",
      "10:\t(1289, 1291)\n",
      "11:\t(1301, 1303)\n",
      "12:\t(1319, 1321)\n",
      "13:\t(1427, 1429)\n",
      "14:\t(1451, 1453)\n",
      "15:\t(1481, 1483)\n",
      "16:\t(1487, 1489)\n",
      "17:\t(1607, 1609)\n",
      "18:\t(1619, 1621)\n",
      "19:\t(1667, 1669)\n",
      "20:\t(1697, 1699)\n",
      "21:\t(1721, 1723)\n",
      "22:\t(1787, 1789)\n",
      "23:\t(1871, 1873)\n",
      "24:\t(1877, 1879)\n",
      "25:\t(1931, 1933)\n",
      "26:\t(1949, 1951)\n",
      "27:\t(1997, 1999)\n",
      "28:\t(2027, 2029)\n",
      "29:\t(2081, 2083)\n",
      "30:\t(2087, 2089)\n",
      "31:\t(2111, 2113)\n",
      "32:\t(2129, 2131)\n",
      "33:\t(2141, 2143)\n",
      "34:\t(2237, 2239)\n",
      "35:\t(2267, 2269)\n",
      "36:\t(2309, 2311)\n",
      "37:\t(2339, 2341)\n",
      "38:\t(2381, 2383)\n",
      "39:\t(2549, 2551)\n",
      "40:\t(2591, 2593)\n",
      "41:\t(2657, 2659)\n",
      "42:\t(2687, 2689)\n",
      "43:\t(2711, 2713)\n",
      "44:\t(2729, 2731)\n",
      "45:\t(2789, 2791)\n",
      "46:\t(2801, 2803)\n",
      "47:\t(2969, 2971)\n",
      "48:\t(2999, 3001)\n",
      "49:\t(3119, 3121)\n",
      "50:\t(3167, 3169)\n",
      "51:\t(3251, 3253)\n",
      "52:\t(3257, 3259)\n"
     ]
    },
    {
     "name": "stdout",
     "output_type": "stream",
     "text": [
      "53:\t(3299, 3301)\n",
      "54:\t(3329, 3331)\n",
      "55:\t(3359, 3361)\n",
      "56:\t(3371, 3373)\n",
      "57:\t(3389, 3391)\n",
      "58:\t(3461, 3463)\n",
      "59:\t(3467, 3469)\n",
      "60:\t(3527, 3529)\n",
      "61:\t(3539, 3541)\n",
      "62:\t(3557, 3559)\n",
      "63:\t(3581, 3583)\n",
      "64:\t(3671, 3673)\n",
      "65:\t(3767, 3769)\n",
      "66:\t(3821, 3823)\n",
      "67:\t(3851, 3853)\n",
      "68:\t(3917, 3919)\n",
      "69:\t(3929, 3931)\n",
      "70:\t(4001, 4003)\n"
     ]
    },
    {
     "name": "stdout",
     "output_type": "stream",
     "text": [
      "71:\t(4019, 4021)\n",
      "72:\t(4049, 4051)\n",
      "73:\t(4091, 4093)\n",
      "74:\t(4127, 4129)\n",
      "75:\t(4157, 4159)\n",
      "76:\t(4217, 4219)\n",
      "77:\t(4229, 4231)\n",
      "78:\t(4241, 4243)\n",
      "79:\t(4259, 4261)\n",
      "80:\t(4271, 4273)\n",
      "81:\t(4337, 4339)\n",
      "82:\t(4421, 4423)\n",
      "83:\t(4481, 4483)\n",
      "84:\t(4517, 4519)\n",
      "85:\t(4547, 4549)\n",
      "86:\t(4637, 4639)\n",
      "87:\t(4649, 4651)\n",
      "88:\t(4721, 4723)\n",
      "89:\t(4787, 4789)\n",
      "90:\t(4799, 4801)\n",
      "91:\t(4931, 4933)\n",
      "92:\t(4967, 4969)\n",
      "93:\t(5009, 5011)\n",
      "94:\t(5021, 5023)\n",
      "95:\t(5099, 5101)\n",
      "96:\t(5231, 5233)\n",
      "97:\t(5279, 5281)\n",
      "98:\t(5417, 5419)\n",
      "99:\t(5441, 5443)\n",
      "100:\t(5477, 5479)\n"
     ]
    },
    {
     "name": "stdout",
     "output_type": "stream",
     "text": [
      "101:\t(5501, 5503)\n",
      "102:\t(5519, 5521)\n",
      "103:\t(5639, 5641)\n",
      "104:\t(5651, 5653)\n",
      "105:\t(5657, 5659)\n",
      "106:\t(5741, 5743)\n",
      "107:\t(5849, 5851)\n",
      "108:\t(5867, 5869)\n",
      "109:\t(5879, 5881)\n",
      "110:\t(6089, 6091)\n"
     ]
    },
    {
     "ename": "KeyboardInterrupt",
     "evalue": "",
     "output_type": "error",
     "traceback": [
      "\u001b[0;31m---------------------------------------------------------------------------\u001b[0m",
      "\u001b[0;31mKeyboardInterrupt\u001b[0m                         Traceback (most recent call last)",
      "\u001b[0;32m<ipython-input-4-3bf90fcfa2d6>\u001b[0m in \u001b[0;36m<module>\u001b[0;34m()\u001b[0m\n\u001b[1;32m     17\u001b[0m \u001b[0;34m\u001b[0m\u001b[0m\n\u001b[1;32m     18\u001b[0m     \u001b[0;32mreturn\u001b[0m \u001b[0mcounter\u001b[0m\u001b[0;34m,\u001b[0m \u001b[0mrecord\u001b[0m\u001b[0;34m\u001b[0m\u001b[0m\n\u001b[0;32m---> 19\u001b[0;31m \u001b[0mc\u001b[0m\u001b[0;34m,\u001b[0m\u001b[0mr\u001b[0m\u001b[0;34m=\u001b[0m\u001b[0msearch\u001b[0m\u001b[0;34m(\u001b[0m\u001b[0;36m1000\u001b[0m\u001b[0;34m,\u001b[0m\u001b[0;36m1000000\u001b[0m\u001b[0;34m)\u001b[0m\u001b[0;34m\u001b[0m\u001b[0m\n\u001b[0m",
      "\u001b[0;32m<ipython-input-4-3bf90fcfa2d6>\u001b[0m in \u001b[0;36msearch\u001b[0;34m(lower, upper)\u001b[0m\n\u001b[1;32m      7\u001b[0m     \u001b[0;32mfor\u001b[0m \u001b[0mi\u001b[0m \u001b[0;32min\u001b[0m \u001b[0mrange\u001b[0m\u001b[0;34m(\u001b[0m\u001b[0mlower\u001b[0m\u001b[0;34m,\u001b[0m\u001b[0mupper\u001b[0m\u001b[0;34m)\u001b[0m\u001b[0;34m:\u001b[0m\u001b[0;34m\u001b[0m\u001b[0m\n\u001b[1;32m      8\u001b[0m         \u001b[0mi\u001b[0m\u001b[0;34m=\u001b[0m\u001b[0mint\u001b[0m\u001b[0;34m(\u001b[0m\u001b[0mi\u001b[0m\u001b[0;34m)\u001b[0m\u001b[0;34m\u001b[0m\u001b[0m\n\u001b[0;32m----> 9\u001b[0;31m         \u001b[0;32mif\u001b[0m \u001b[0mis_prime\u001b[0m\u001b[0;34m(\u001b[0m\u001b[0mi\u001b[0m\u001b[0;34m)\u001b[0m\u001b[0;34m:\u001b[0m\u001b[0;34m\u001b[0m\u001b[0m\n\u001b[0m\u001b[1;32m     10\u001b[0m             \u001b[0;32mif\u001b[0m \u001b[0mis_prime\u001b[0m\u001b[0;34m(\u001b[0m\u001b[0mi\u001b[0m\u001b[0;34m+\u001b[0m\u001b[0;36m2\u001b[0m\u001b[0;34m)\u001b[0m\u001b[0;34m:\u001b[0m\u001b[0;34m\u001b[0m\u001b[0m\n\u001b[1;32m     11\u001b[0m                 \u001b[0mrecord\u001b[0m\u001b[0;34m=\u001b[0m\u001b[0;34m(\u001b[0m\u001b[0mi\u001b[0m\u001b[0;34m,\u001b[0m\u001b[0mi\u001b[0m\u001b[0;34m+\u001b[0m\u001b[0;36m2\u001b[0m\u001b[0;34m)\u001b[0m\u001b[0;34m\u001b[0m\u001b[0m\n",
      "\u001b[0;32m<ipython-input-4-3bf90fcfa2d6>\u001b[0m in \u001b[0;36mis_prime\u001b[0;34m(a)\u001b[0m\n\u001b[1;32m      1\u001b[0m \u001b[0;32mfrom\u001b[0m \u001b[0mnumpy\u001b[0m \u001b[0;32mimport\u001b[0m \u001b[0marange\u001b[0m\u001b[0;34m\u001b[0m\u001b[0m\n\u001b[1;32m      2\u001b[0m \u001b[0;32mdef\u001b[0m \u001b[0mis_prime\u001b[0m\u001b[0;34m(\u001b[0m\u001b[0ma\u001b[0m\u001b[0;34m)\u001b[0m\u001b[0;34m:\u001b[0m\u001b[0;34m\u001b[0m\u001b[0m\n\u001b[0;32m----> 3\u001b[0;31m     \u001b[0mr\u001b[0m\u001b[0;34m=\u001b[0m\u001b[0ma\u001b[0m\u001b[0;34m%\u001b[0m\u001b[0marange\u001b[0m\u001b[0;34m(\u001b[0m\u001b[0;36m2\u001b[0m\u001b[0;34m,\u001b[0m\u001b[0ma\u001b[0m\u001b[0;34m)\u001b[0m\u001b[0;34m\u001b[0m\u001b[0m\n\u001b[0m\u001b[1;32m      4\u001b[0m     \u001b[0;32mreturn\u001b[0m \u001b[0mall\u001b[0m\u001b[0;34m(\u001b[0m\u001b[0mr\u001b[0m\u001b[0;34m!=\u001b[0m\u001b[0;36m0\u001b[0m\u001b[0;34m)\u001b[0m\u001b[0;34m\u001b[0m\u001b[0m\n\u001b[1;32m      5\u001b[0m \u001b[0;32mdef\u001b[0m \u001b[0msearch\u001b[0m\u001b[0;34m(\u001b[0m\u001b[0mlower\u001b[0m\u001b[0;34m,\u001b[0m\u001b[0mupper\u001b[0m\u001b[0;34m)\u001b[0m\u001b[0;34m:\u001b[0m\u001b[0;34m\u001b[0m\u001b[0m\n",
      "\u001b[0;31mKeyboardInterrupt\u001b[0m: "
     ]
    }
   ],
   "source": [
    "from numpy import arange\n",
    "def is_prime(a):\n",
    "    r=a%arange(2,a)\n",
    "    return all(r!=0)\n",
    "def search(lower,upper):\n",
    "    counter=1;record=(None,None)\n",
    "    for i in range(lower,upper):\n",
    "        i=int(i)\n",
    "        if is_prime(i):\n",
    "            if is_prime(i+2):\n",
    "                record=(i,i+2)\n",
    "                counter+=1\n",
    "                print('{}:\\t{}'.format(counter,record))\n",
    "    print('-'*20)\n",
    "    print('Total number:\\t{}'.format(counter))\n",
    "    print('Last Pair:\\t{}'.format(record))\n",
    "\n",
    "    return counter, record\n",
    "c,r=search(1000,1000000)"
   ]
  },
  {
   "cell_type": "code",
   "execution_count": 17,
   "metadata": {
    "collapsed": false
   },
   "outputs": [
   ],
   "source": [
   ]
  },
  {
   "cell_type": "code",
   "execution_count": 0,
   "metadata": {
    "collapsed": false
   },
   "outputs": [
   ],
   "source": [
   ]
  },
  {
   "cell_type": "code",
   "execution_count": 0,
   "metadata": {
    "collapsed": false
   },
   "outputs": [
   ],
   "source": [
   ]
  },
  {
   "cell_type": "code",
   "execution_count": 0,
   "metadata": {
    "collapsed": false
   },
   "outputs": [
   ],
   "source": [
   ]
  }
 ],
 "metadata": {
  "kernelspec": {
   "display_name": "Python 3 (Anaconda 5)",
   "language": "python",
   "name": "anaconda5"
  }
 },
 "nbformat": 4,
 "nbformat_minor": 0
}